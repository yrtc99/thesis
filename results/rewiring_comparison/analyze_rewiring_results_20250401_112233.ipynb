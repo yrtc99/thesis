{
 "cells": [
  {
   "cell_type": "markdown",
   "metadata": {},
   "source": [
    "# 重連方法比較分析\n",
    "\n",
    "本筆記本用於分析不同重連方法的性能比較。\n",
    "\n",
    "## 實驗設置\n",
    "\n",
    "- 數據集: Wisconsin\n",
    "- 模型: GCN\n",
    "- 重複次數: 3\n",
    "- 隨機種子: 0\n",
    "- 時間戳: 20250401_112233"
   ]
  },
  {
   "cell_type": "code",
   "execution_count": null,
   "metadata": {},
   "source": [
    "import sys\n",
    "sys.path.append('../')\n",
    "\n",
    "import json\n",
    "import matplotlib.pyplot as plt\n",
    "import numpy as np\n",
    "import os\n",
    "\n",
    "# 載入繪圖函數\n",
    "from plot_results_20250401_112233 import load_results, plot_comparison, plot_all_metrics, find_latest_result"
   ]
  },
  {
   "cell_type": "markdown",
   "metadata": {},
   "source": [
    "## 載入實驗結果"
   ]
  },
  {
   "cell_type": "code",
   "execution_count": null,
   "metadata": {},
   "source": [
    "# 指定結果文件路徑\n",
    "results_file = './results/rewiring_comparison/Wisconsin_GCN_20250401_112233.json'\n",
    "\n",
    "# 載入結果\n",
    "results_data = load_results(results_file)\n",
    "print(f\"載入了 {results_data['dataset']} 數據集上 {results_data['model']} 模型的實驗結果\")\n",
    "\n",
    "# 顯示結果概要\n",
    "print(\"\n實驗結果概要:\")\n",
    "for method, result in results_data['results'].items():\n",
    "    print(f\"  {method}:\n    測試準確率: {result['avg']['test']:.4f} ± {result['std']['test']:.4f}\n    驗證準確率: {result['avg']['val']:.4f} ± {result['std']['val']:.4f}\n    訓練準確率: {result['avg']['train']:.4f} ± {result['std']['train']:.4f}\")"
   ]
  },
  {
   "cell_type": "markdown",
   "metadata": {},
   "source": [
    "## 測試準確率比較"
   ]
  },
  {
   "cell_type": "code",
   "execution_count": null,
   "metadata": {},
   "source": [
    "# 繪製測試準確率比較圖\n",
    "plt.figure(figsize=(10, 6))\n",
    "plot_comparison(results_data, metric='test')\n",
    "plt.tight_layout()\n",
    "plt.show()"
   ]
  },
  {
   "cell_type": "markdown",
   "metadata": {},
   "source": [
    "## 所有指標比較"
   ]
  },
  {
   "cell_type": "code",
   "execution_count": null,
   "metadata": {},
   "source": [
    "# 繪製所有指標比較圖\n",
    "fig = plot_all_metrics(results_data)\n",
    "plt.show()"
   ]
  },
  {
   "cell_type": "markdown",
   "metadata": {},
   "source": [
    "## 相對性能提升分析"
   ]
  },
  {
   "cell_type": "code",
   "execution_count": null,
   "metadata": {},
   "source": [
    "# 計算相對於基準（無重連）的性能提升\n",
    "if 'none' in results_data['results']:\n",
    "    baseline = results_data['results']['none']['avg']['test']\n",
    "    \n",
    "    improvements = {}\n",
    "    for method, result in results_data['results'].items():\n",
    "        if method != 'none':\n",
    "            rel_improvement = (result['avg']['test'] - baseline) / baseline * 100\n",
    "            improvements[method] = rel_improvement\n",
    "    \n",
    "    # 繪製性能提升圖\n",
    "    plt.figure(figsize=(10, 6))\n",
    "    bars = plt.bar(improvements.keys(), improvements.values(), alpha=0.7)\n",
    "    \n",
    "    # 添加數值標籤\n",
    "    for bar, val in zip(bars, improvements.values()):\n",
    "        plt.text(bar.get_x() + bar.get_width()/2, val + 0.5, f'{val:.2f}%', \n",
    "                 ha='center', va='bottom', fontsize=10)\n",
    "    \n",
    "    plt.title(f'{results_data[\"dataset\"]} - {results_data[\"model\"]} - 相對於基準的性能提升')\n",
    "    plt.ylabel('性能提升百分比 (%)')\n",
    "    plt.grid(axis='y', linestyle='--', alpha=0.7)\n",
    "    plt.tight_layout()\n",
    "    plt.show()\n",
    "else:\n",
    "    print(\"未找到基準（無重連）實驗結果，無法計算相對性能提升\")"
   ]
  },
  {
   "cell_type": "markdown",
   "metadata": {},
   "source": [
    "## 結論"
   ]
  },
  {
   "cell_type": "markdown",
   "metadata": {},
   "source": [
    "在此處添加您的實驗結論..."
   ]
  },
  {
   "cell_type": "markdown",
   "metadata": {},
   "source": [
    "## 附錄：原始數據"
   ]
  },
  {
   "cell_type": "code",
   "execution_count": null,
   "metadata": {},
   "source": [
    "# 顯示完整的結果數據\n",
    "import json\n",
    "print(json.dumps(results_data, indent=2))"
   ]
  }
 ],
 "metadata": {
  "kernelspec": {
   "display_name": "Python 3",
   "language": "python",
   "name": "python3"
  },
  "language_info": {
   "codemirror_mode": {
    "name": "ipython",
    "version": 3
   },
   "file_extension": ".py",
   "mimetype": "text/x-python",
   "name": "python",
   "nbconvert_exporter": "python",
   "pygments_lexer": "ipython3",
   "version": "3.8.10"
  }
 }
}

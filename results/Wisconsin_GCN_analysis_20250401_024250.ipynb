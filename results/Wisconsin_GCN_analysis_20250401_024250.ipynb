{
 "cells": [
  {
   "cell_type": "code",
   "execution_count": null,
   "metadata": {},
   "outputs": [],
   "source": [
    "import pandas as pd\n",
    "import matplotlib.pyplot as plt\n",
    "\n",
    "# 讀取實驗結果摘要文件\n",
    "summary_df = pd.read_csv('$SUMMARY_FILE')\n",
    "\n",
    "# 繪製實驗結果圖表\n",
    "plt.figure(figsize=(10, 6))\n",
    "plt.plot(summary_df['Rewiring'], summary_df['Train'], label='Train')\n",
    "plt.plot(summary_df['Rewiring'], summary_df['Val'], label='Val')\n",
    "plt.plot(summary_df['Rewiring'], summary_df['Test'], label='Test')\n",
    "plt.xlabel('Rewiring')\n",
    "plt.ylabel('Accuracy')\n",
    "plt.title('Experiment Results')\n",
    "plt.legend()\n",
    "plt.show()"
   ]
  }
 ],
 "metadata": {
  "kernelspec": {
   "display_name": "Python 3",
   "language": "python",
   "name": "python3"
  },
  "language_info": {
   "codemirror_mode": {
    "name": "ipython",
    "version": 3
   },
   "file_extension": ".py",
   "mimetype": "text/x-python",
   "name": "python",
   "nbconvert_exporter": "python",
   "pygments_lexer": "ipython3",
   "version": "3.8.5"
  }
 },
 "nbformat": 4,
 "nbformat_minor": 4
}
